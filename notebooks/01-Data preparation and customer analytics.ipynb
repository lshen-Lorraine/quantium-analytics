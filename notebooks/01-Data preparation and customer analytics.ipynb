{
 "cells": [
  {
   "cell_type": "markdown",
   "metadata": {},
   "source": [
    "## Data preparation and data visualization"
   ]
  },
  {
   "cell_type": "markdown",
   "metadata": {},
   "source": [
    "### Import packages"
   ]
  },
  {
   "cell_type": "code",
   "execution_count": 134,
   "metadata": {},
   "outputs": [],
   "source": [
    "import pandas as pd"
   ]
  },
  {
   "cell_type": "code",
   "execution_count": 135,
   "metadata": {},
   "outputs": [],
   "source": [
    "import matplotlib.pyplot as plt"
   ]
  },
  {
   "cell_type": "code",
   "execution_count": 136,
   "metadata": {},
   "outputs": [],
   "source": [
    "purch_behav_data = pd.read_csv(\"../src/data/QVI_purchase_behaviour.csv\")"
   ]
  },
  {
   "cell_type": "code",
   "execution_count": 137,
   "metadata": {},
   "outputs": [],
   "source": [
    "qvi_tran_data = pd.read_excel(\"../src/data/QVI_transaction_data.xlsx\")"
   ]
  },
  {
   "cell_type": "code",
   "execution_count": 138,
   "metadata": {},
   "outputs": [],
   "source": [
    "def data_info(file):\n",
    "    print(\"There are {} rows and {} columns.\".format(file.shape[0], file.shape[1]), end = '\\n')\n",
    "    print(\"-------------head of the data------------------\")\n",
    "    print(file.head(5))\n",
    "    print(\"-------------description of the data------------------\")\n",
    "    print(file.describe(include = \"all\"))"
   ]
  },
  {
   "cell_type": "markdown",
   "metadata": {},
   "source": [
    "### Based on this table, we can figure out that quantium customers mainly have<font color = 'red'> 7</font> different lifestage and <font color =\"red\">3 </font> types of customer segments. And customers who are in the lifestage of <span style=\"color:red\">retirees</span>  or <span style=\"color:red\">mainstream</span> customer segments have the highest number of consumption"
   ]
  },
  {
   "cell_type": "code",
   "execution_count": 139,
   "metadata": {},
   "outputs": [
    {
     "name": "stdout",
     "output_type": "stream",
     "text": [
      "There are 72637 rows and 3 columns.\n",
      "-------------head of the data------------------\n",
      "   LYLTY_CARD_NBR               LIFESTAGE PREMIUM_CUSTOMER\n",
      "0            1000   YOUNG SINGLES/COUPLES          Premium\n",
      "1            1002   YOUNG SINGLES/COUPLES       Mainstream\n",
      "2            1003          YOUNG FAMILIES           Budget\n",
      "3            1004   OLDER SINGLES/COUPLES       Mainstream\n",
      "4            1005  MIDAGE SINGLES/COUPLES       Mainstream\n",
      "-------------description of the data------------------\n",
      "        LYLTY_CARD_NBR LIFESTAGE PREMIUM_CUSTOMER\n",
      "count     7.263700e+04     72637            72637\n",
      "unique             NaN         7                3\n",
      "top                NaN  RETIREES       Mainstream\n",
      "freq               NaN     14805            29245\n",
      "mean      1.361859e+05       NaN              NaN\n",
      "std       8.989293e+04       NaN              NaN\n",
      "min       1.000000e+03       NaN              NaN\n",
      "25%       6.620200e+04       NaN              NaN\n",
      "50%       1.340400e+05       NaN              NaN\n",
      "75%       2.033750e+05       NaN              NaN\n",
      "max       2.373711e+06       NaN              NaN\n"
     ]
    }
   ],
   "source": [
    "data_info(purch_behav_data)"
   ]
  },
  {
   "cell_type": "markdown",
   "metadata": {},
   "source": [
    "Based on the followed tables, we can know the most popular product is <font color = \"red\"> Kettle Mozzarella   Basil & Pesto 175g </font> and it is bought by 3304 times. There are 114 kinds of products. For a single product the max number of quantity is <font color=\"red\">200</font>. The average total sales is <font color =\"red\">7.30</font>.\n",
    "For stores, the 226 number store has the highest shopping times and it is 2022."
   ]
  },
  {
   "cell_type": "code",
   "execution_count": 140,
   "metadata": {},
   "outputs": [
    {
     "name": "stdout",
     "output_type": "stream",
     "text": [
      "There are 264836 rows and 8 columns.\n",
      "-------------head of the data------------------\n",
      "                           DATE STORE_NBR  LYLTY_CARD_NBR  TXN_ID PROD_NBR  \\\n",
      "0 1899-12-30 00:00:00.000043390         1            1000       1        5   \n",
      "1 1899-12-30 00:00:00.000043599         1            1307     348       66   \n",
      "2 1899-12-30 00:00:00.000043605         1            1343     383       61   \n",
      "3 1899-12-30 00:00:00.000043329         2            2373     974       69   \n",
      "4 1899-12-30 00:00:00.000043330         2            2426    1038      108   \n",
      "\n",
      "                                  PROD_NAME  PROD_QTY  TOT_SALES  \n",
      "0    Natural Chip        Compny SeaSalt175g         2        6.0  \n",
      "1                  CCs Nacho Cheese    175g         3        6.3  \n",
      "2    Smiths Crinkle Cut  Chips Chicken 170g         2        2.9  \n",
      "3    Smiths Chip Thinly  S/Cream&Onion 175g         5       15.0  \n",
      "4  Kettle Tortilla ChpsHny&Jlpno Chili 150g         3       13.8  \n",
      "-------------description of the data------------------\n",
      "                                 DATE  STORE_NBR  LYLTY_CARD_NBR  \\\n",
      "count                          264836   264836.0    2.648360e+05   \n",
      "unique                            364      272.0             NaN   \n",
      "top     1899-12-30 00:00:00.000043458      226.0             NaN   \n",
      "freq                              939     2022.0             NaN   \n",
      "first   1899-12-30 00:00:00.000043282        NaN             NaN   \n",
      "last    1899-12-30 00:00:00.000043646        NaN             NaN   \n",
      "mean                              NaN        NaN    1.355495e+05   \n",
      "std                               NaN        NaN    8.057998e+04   \n",
      "min                               NaN        NaN    1.000000e+03   \n",
      "25%                               NaN        NaN    7.002100e+04   \n",
      "50%                               NaN        NaN    1.303575e+05   \n",
      "75%                               NaN        NaN    2.030942e+05   \n",
      "max                               NaN        NaN    2.373711e+06   \n",
      "\n",
      "              TXN_ID  PROD_NBR                               PROD_NAME  \\\n",
      "count   2.648360e+05  264836.0                                  264836   \n",
      "unique           NaN     114.0                                     114   \n",
      "top              NaN     102.0  Kettle Mozzarella   Basil & Pesto 175g   \n",
      "freq             NaN    3304.0                                    3304   \n",
      "first            NaN       NaN                                     NaN   \n",
      "last             NaN       NaN                                     NaN   \n",
      "mean    1.351583e+05       NaN                                     NaN   \n",
      "std     7.813303e+04       NaN                                     NaN   \n",
      "min     1.000000e+00       NaN                                     NaN   \n",
      "25%     6.760150e+04       NaN                                     NaN   \n",
      "50%     1.351375e+05       NaN                                     NaN   \n",
      "75%     2.027012e+05       NaN                                     NaN   \n",
      "max     2.415841e+06       NaN                                     NaN   \n",
      "\n",
      "             PROD_QTY      TOT_SALES  \n",
      "count   264836.000000  264836.000000  \n",
      "unique            NaN            NaN  \n",
      "top               NaN            NaN  \n",
      "freq              NaN            NaN  \n",
      "first             NaN            NaN  \n",
      "last              NaN            NaN  \n",
      "mean         1.907309       7.304200  \n",
      "std          0.643654       3.083226  \n",
      "min          1.000000       1.500000  \n",
      "25%          2.000000       5.400000  \n",
      "50%          2.000000       7.400000  \n",
      "75%          2.000000       9.200000  \n",
      "max        200.000000     650.000000  \n"
     ]
    }
   ],
   "source": [
    "qvi_tran_data[['STORE_NBR','PROD_NBR']] = qvi_tran_data[['STORE_NBR','PROD_NBR']].astype('category')\n",
    "qvi_tran_data[['DATE']] = pd.to_datetime(qvi_tran_data['DATE'],origin=pd.Timestamp('1899-12-30'))\n",
    "\n",
    "data_info(qvi_tran_data)"
   ]
  },
  {
   "cell_type": "code",
   "execution_count": 181,
   "metadata": {},
   "outputs": [],
   "source": [
    "prod_name_list = qvi_tran_data['PROD_NAME'].unique().tolist()\n",
    "from functools import reduce\n",
    "prod_name_list = reduce(lambda x,y: x +y,list(map(lambda x: [i for i in x.split(' ') if i != ''],prod_name_list)))\n",
    "              "
   ]
  },
  {
   "cell_type": "code",
   "execution_count": 186,
   "metadata": {},
   "outputs": [
    {
     "data": {
      "text/plain": [
       "[1, 3, 6, 10, 15]"
      ]
     },
     "execution_count": 186,
     "metadata": {},
     "output_type": "execute_result"
    }
   ],
   "source": [
    "from itertools import accumulate\n",
    "list(accumulate([1,2,3,4,5],lambda x,y: x+y))"
   ]
  },
  {
   "cell_type": "code",
   "execution_count": 122,
   "metadata": {},
   "outputs": [
    {
     "name": "stdout",
     "output_type": "stream",
     "text": [
      "The 7 lifestages are: ['YOUNG SINGLES/COUPLES' 'YOUNG FAMILIES' 'OLDER SINGLES/COUPLES'\n",
      " 'MIDAGE SINGLES/COUPLES' 'NEW FAMILIES' 'OLDER FAMILIES' 'RETIREES']\n"
     ]
    }
   ],
   "source": [
    "lifestages = purch_behav_data['LIFESTAGE'].unique()\n",
    "print(\"The 7 lifestages are:\", lifestages)"
   ]
  },
  {
   "cell_type": "code",
   "execution_count": 126,
   "metadata": {},
   "outputs": [
    {
     "data": {
      "text/plain": [
       "0           1\n",
       "1           1\n",
       "2           1\n",
       "3           2\n",
       "4           2\n",
       "         ... \n",
       "264831    272\n",
       "264832    272\n",
       "264833    272\n",
       "264834    272\n",
       "264835    272\n",
       "Name: STORE_NBR, Length: 264836, dtype: category\n",
       "Categories (272, int64): [1, 2, 3, 4, ..., 269, 270, 271, 272]"
      ]
     },
     "execution_count": 126,
     "metadata": {},
     "output_type": "execute_result"
    }
   ],
   "source": [
    "qvi_tran_data.STORE_NBR"
   ]
  },
  {
   "cell_type": "code",
   "execution_count": 129,
   "metadata": {},
   "outputs": [
    {
     "data": {
      "text/plain": [
       "DATE              2022\n",
       "STORE_NBR         2022\n",
       "LYLTY_CARD_NBR    2022\n",
       "TXN_ID            2022\n",
       "PROD_NBR          2022\n",
       "PROD_NAME         2022\n",
       "PROD_QTY          2022\n",
       "TOT_SALES         2022\n",
       "dtype: int64"
      ]
     },
     "execution_count": 129,
     "metadata": {},
     "output_type": "execute_result"
    }
   ],
   "source": [
    "qvi_tran_data[qvi_tran_data[\"STORE_NBR\"]==226].count()"
   ]
  },
  {
   "cell_type": "code",
   "execution_count": 7,
   "metadata": {},
   "outputs": [],
   "source": [
    "prem_cust = purch_behav_data['PREMIUM_CUSTOMER'].unique()"
   ]
  },
  {
   "cell_type": "code",
   "execution_count": 8,
   "metadata": {},
   "outputs": [
    {
     "name": "stdout",
     "output_type": "stream",
     "text": [
      "The 3 different premium customers are: ['Premium' 'Mainstream' 'Budget']\n"
     ]
    }
   ],
   "source": [
    "print('The 3 different premium customers are:',prem_cust)"
   ]
  },
  {
   "cell_type": "code",
   "execution_count": 9,
   "metadata": {
    "scrolled": true
   },
   "outputs": [
    {
     "name": "stdout",
     "output_type": "stream",
     "text": [
      "<class 'pandas.core.frame.DataFrame'>\n",
      "RangeIndex: 72637 entries, 0 to 72636\n",
      "Data columns (total 3 columns):\n",
      " #   Column            Non-Null Count  Dtype \n",
      "---  ------            --------------  ----- \n",
      " 0   LYLTY_CARD_NBR    72637 non-null  int64 \n",
      " 1   LIFESTAGE         72637 non-null  object\n",
      " 2   PREMIUM_CUSTOMER  72637 non-null  object\n",
      "dtypes: int64(1), object(2)\n",
      "memory usage: 1.7+ MB\n"
     ]
    }
   ],
   "source": [
    "purch_behav_data.info()"
   ]
  },
  {
   "cell_type": "markdown",
   "metadata": {},
   "source": [
    "### We don't have null value."
   ]
  },
  {
   "cell_type": "code",
   "execution_count": 15,
   "metadata": {},
   "outputs": [
    {
     "data": {
      "text/plain": [
       "2047      1\n",
       "197109    1\n",
       "121326    1\n",
       "119279    1\n",
       "74225     1\n",
       "         ..\n",
       "251088    1\n",
       "77007     1\n",
       "81101     1\n",
       "79052     1\n",
       "131072    1\n",
       "Name: LYLTY_CARD_NBR, Length: 72637, dtype: int64"
      ]
     },
     "execution_count": 15,
     "metadata": {},
     "output_type": "execute_result"
    }
   ],
   "source": [
    "purch_behav_data['LYLTY_CARD_NBR'].value_counts()"
   ]
  },
  {
   "cell_type": "code",
   "execution_count": 31,
   "metadata": {},
   "outputs": [],
   "source": [
    "lifestage =purch_behav_data['LIFESTAGE'].value_counts()"
   ]
  },
  {
   "cell_type": "code",
   "execution_count": 42,
   "metadata": {},
   "outputs": [
    {
     "data": {
      "text/plain": [
       "([0, 1, 2, 3, 4, 5, 6], <a list of 7 Text xticklabel objects>)"
      ]
     },
     "execution_count": 42,
     "metadata": {},
     "output_type": "execute_result"
    },
    {
     "data": {
      "image/png": "[encoded data removed]",
      "text/plain": [
       "<Figure size 432x288 with 1 Axes>"
      ]
     },
     "metadata": {
      "needs_background": "light"
     },
     "output_type": "display_data"
    }
   ],
   "source": [
    "plt.bar(lifestage.index, lifestage )\n",
    "plt.title(\"Bar Chart of the distribution of Lifestages\")\n",
    "plt.xticks(rotation = 45)"
   ]
  },
  {
   "cell_type": "code",
   "execution_count": 21,
   "metadata": {},
   "outputs": [],
   "source": [
    "cust_segs = purch_behav_data['PREMIUM_CUSTOMER'].value_counts()"
   ]
  },
  {
   "cell_type": "code",
   "execution_count": 41,
   "metadata": {},
   "outputs": [
    {
     "data": {
      "text/plain": [
       "Text(0.5, 1.0, 'Bar Chart of the distribution of Customer Segments')"
      ]
     },
     "execution_count": 41,
     "metadata": {},
     "output_type": "execute_result"
    },
    {
     "data": {
      "image/png": "[encoded data removed]",
      "text/plain": [
       "<Figure size 432x288 with 1 Axes>"
      ]
     },
     "metadata": {
      "needs_background": "light"
     },
     "output_type": "display_data"
    }
   ],
   "source": [
    "plt.bar(cust_segs.index, cust_segs)\n",
    "plt.title(\"Bar Chart of the distribution of Customer Segments\")\n"
   ]
  },
  {
   "cell_type": "code",
   "execution_count": null,
   "metadata": {},
   "outputs": [],
   "source": []
  }
 ],
 "metadata": {
  "kernelspec": {
   "display_name": "Python 3",
   "language": "python",
   "name": "python3"
  },
  "language_info": {
   "codemirror_mode": {
    "name": "ipython",
    "version": 3
   },
   "file_extension": ".py",
   "mimetype": "text/x-python",
   "name": "python",
   "nbconvert_exporter": "python",
   "pygments_lexer": "ipython3",
   "version": "3.7.6"
  }
 },
 "nbformat": 4,
 "nbformat_minor": 4
}
